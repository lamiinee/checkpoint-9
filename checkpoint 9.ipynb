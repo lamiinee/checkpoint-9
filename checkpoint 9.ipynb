{
 "cells": [
  {
   "cell_type": "code",
   "execution_count": null,
   "id": "1e3ef71e",
   "metadata": {},
   "outputs": [],
   "source": [
    "#pour lire un fichier texte \n",
    "with open(file1, \"r\") as f:\n",
    "    exo1 = f.read()\n",
    "    print(exo1)\n",
    "    \n"
   ]
  },
  {
   "cell_type": "code",
   "execution_count": null,
   "id": "bf97c1f9",
   "metadata": {},
   "outputs": [],
   "source": [
    "#pour lire les n premières lignes d'un fichier\n",
    "def exo2(n):\n",
    "    with open(file1, 'r') as f:\n",
    "        for line in f.readlines()[:n]:\n",
    "            return line\n",
    "n= int(input('entrez un nombre: '))\n",
    "print(exo2(n))"
   ]
  },
  {
   "cell_type": "code",
   "execution_count": null,
   "id": "f5921474",
   "metadata": {},
   "outputs": [],
   "source": [
    "#pour lire les n dernières lignes \n",
    "def exo3(n):\n",
    "    with open(file1, 'r') as f:\n",
    "        line = file1.readlines()\n",
    "        return line[-n:]\n",
    "n = int(input(\"Entrez un nombre: \"))\n",
    "print(exo3(n))"
   ]
  },
  {
   "cell_type": "code",
   "execution_count": null,
   "id": "ef5f823e",
   "metadata": {},
   "outputs": [],
   "source": [
    "#pour compter le nombre de mots \n",
    "def compter():\n",
    "    with open(file1,'r') as f:\n",
    "        return len(f.read().split())\n",
    "print(\"Le nombre de mots dans le fichier est: \", compter())"
   ]
  },
  {
   "cell_type": "code",
   "execution_count": null,
   "id": "87df5e07",
   "metadata": {},
   "outputs": [],
   "source": []
  }
 ],
 "metadata": {
  "kernelspec": {
   "display_name": "Python 3 (ipykernel)",
   "language": "python",
   "name": "python3"
  },
  "language_info": {
   "codemirror_mode": {
    "name": "ipython",
    "version": 3
   },
   "file_extension": ".py",
   "mimetype": "text/x-python",
   "name": "python",
   "nbconvert_exporter": "python",
   "pygments_lexer": "ipython3",
   "version": "3.9.13"
  }
 },
 "nbformat": 4,
 "nbformat_minor": 5
}
